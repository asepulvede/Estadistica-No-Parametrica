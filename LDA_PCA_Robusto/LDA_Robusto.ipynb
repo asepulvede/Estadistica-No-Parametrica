{
  "nbformat": 4,
  "nbformat_minor": 0,
  "metadata": {
    "colab": {
      "provenance": []
    },
    "kernelspec": {
      "name": "python3",
      "display_name": "Python 3"
    },
    "language_info": {
      "name": "python"
    }
  },
  "cells": [
    {
      "cell_type": "code",
      "source": [
        "import sys\n",
        "sys.modules[__name__].__dict__.clear()"
      ],
      "metadata": {
        "id": "GGHjP5sh9pMD"
      },
      "execution_count": null,
      "outputs": []
    },
    {
      "cell_type": "code",
      "source": [
        "import numpy as np \n",
        "import pandas as pd\n",
        "import matplotlib.pyplot as plt\n",
        "import seaborn as sns\n",
        "from pandas.compat import platform\n",
        "from sklearn import model_selection, preprocessing, feature_selection, ensemble, linear_model, metrics, decomposition\n",
        "import scipy.stats as stats\n",
        "from sklearn.covariance import MinCovDet\n",
        "from sklearn.covariance import LedoitWolf\n",
        "from sklearn.model_selection import train_test_split\n",
        "import sklearn.metrics as metrics\n",
        "from sklearn.linear_model import LogisticRegression\n",
        "from sklearn.metrics import accuracy_score\n",
        "from sklearn.discriminant_analysis import LinearDiscriminantAnalysis \n",
        "from sklearn.datasets import make_classification\n",
        "from sklearn.metrics import f1_score"
      ],
      "metadata": {
        "id": "_pgBVsmqQLIm"
      },
      "execution_count": 1,
      "outputs": []
    },
    {
      "cell_type": "code",
      "source": [
        "df= pd.read_csv('FIFA19.csv')\n",
        "na = pd.notnull(df[\"Position\"])\n",
        "df = df[na]\n",
        "df= df[['Finishing', 'HeadingAccuracy', 'ShortPassing', 'Volleys', 'Dribbling',\n",
        "       'Curve', 'FKAccuracy', 'LongPassing', 'BallControl', 'Acceleration',\n",
        "       'SprintSpeed', 'Agility', 'Reactions', 'Balance', 'ShotPower',\n",
        "       'Jumping', 'Stamina', 'Strength', 'LongShots', 'Aggression',\n",
        "       'Interceptions', 'Positioning', 'Vision', 'Penalties', 'Composure',\n",
        "       'Marking', 'StandingTackle', 'SlidingTackle', 'GKDiving', 'GKHandling',\n",
        "       'GKKicking', 'GKPositioning', 'GKReflexes','Position']]"
      ],
      "metadata": {
        "id": "1Bv18KPkQPQh"
      },
      "execution_count": 2,
      "outputs": []
    },
    {
      "cell_type": "code",
      "source": [
        "x = (df.drop(\"Position\", axis=1).values)\n",
        "y = df[\"Position\"].values"
      ],
      "metadata": {
        "id": "e48_wMANRHLX"
      },
      "execution_count": 3,
      "outputs": []
    },
    {
      "cell_type": "markdown",
      "source": [
        "#wine dataset"
      ],
      "metadata": {
        "id": "Vxx25ixtSMcI"
      }
    },
    {
      "cell_type": "code",
      "source": [
        "from sklearn.datasets import load_wine\n",
        "wine = load_wine()\n",
        "x = pd.DataFrame(wine.data, columns=wine.feature_names).values\n",
        "Y = pd.Categorical.from_codes(wine.target, wine.target_names)\n",
        "y= [i for i in Y]"
      ],
      "metadata": {
        "id": "KTXt5n1WQosg"
      },
      "execution_count": 117,
      "outputs": []
    },
    {
      "cell_type": "code",
      "source": [
        "wine.feature_names"
      ],
      "metadata": {
        "colab": {
          "base_uri": "https://localhost:8080/"
        },
        "id": "BuAHbALIjE5C",
        "outputId": "acf4687c-5550-4003-d03e-61f8935acbfe"
      },
      "execution_count": 133,
      "outputs": [
        {
          "output_type": "execute_result",
          "data": {
            "text/plain": [
              "['alcohol',\n",
              " 'malic_acid',\n",
              " 'ash',\n",
              " 'alcalinity_of_ash',\n",
              " 'magnesium',\n",
              " 'total_phenols',\n",
              " 'flavanoids',\n",
              " 'nonflavanoid_phenols',\n",
              " 'proanthocyanins',\n",
              " 'color_intensity',\n",
              " 'hue',\n",
              " 'od280/od315_of_diluted_wines',\n",
              " 'proline']"
            ]
          },
          "metadata": {},
          "execution_count": 133
        }
      ]
    },
    {
      "cell_type": "markdown",
      "source": [
        "#iris setosa dataset\n"
      ],
      "metadata": {
        "id": "qq6sAIgqST9h"
      }
    },
    {
      "cell_type": "code",
      "source": [
        "from sklearn import datasets\n",
        "iris = datasets.load_iris()\n",
        "x = iris.data # we only take the first two features.\n",
        "y = iris.target"
      ],
      "metadata": {
        "id": "MQDWMTAtSYRL"
      },
      "execution_count": 129,
      "outputs": []
    },
    {
      "cell_type": "code",
      "source": [
        "iris.feature_names"
      ],
      "metadata": {
        "colab": {
          "base_uri": "https://localhost:8080/"
        },
        "id": "vpvcd7VinM7i",
        "outputId": "aa9cc539-0fe3-46a1-96fe-6f95f5e5764b"
      },
      "execution_count": 135,
      "outputs": [
        {
          "output_type": "execute_result",
          "data": {
            "text/plain": [
              "['sepal length (cm)',\n",
              " 'sepal width (cm)',\n",
              " 'petal length (cm)',\n",
              " 'petal width (cm)']"
            ]
          },
          "metadata": {},
          "execution_count": 135
        }
      ]
    },
    {
      "cell_type": "code",
      "source": [
        "iris.target_names"
      ],
      "metadata": {
        "colab": {
          "base_uri": "https://localhost:8080/"
        },
        "id": "DeFQlI5iY9Xf",
        "outputId": "e5544dfc-d1ce-41df-baae-0f340c4f32ac"
      },
      "execution_count": 130,
      "outputs": [
        {
          "output_type": "execute_result",
          "data": {
            "text/plain": [
              "array(['setosa', 'versicolor', 'virginica'], dtype='<U10')"
            ]
          },
          "metadata": {},
          "execution_count": 130
        }
      ]
    },
    {
      "cell_type": "markdown",
      "source": [
        "#Fifa dataset\n",
        "Se clasifican las categorias"
      ],
      "metadata": {
        "id": "8qRRrBK1TuCx"
      }
    },
    {
      "cell_type": "code",
      "source": [
        "gk = [\"GK\"]\n",
        "forward_player = [\"ST\", \"LW\", \"RW\", \"LF\", \"RF\", \"RS\",\"LS\", \"CF\"]\n",
        "midfielder_player = [\"CM\",\"RCM\",\"LCM\", \"CDM\",\"RDM\",\"LDM\", \"CAM\", \"LAM\", \"RAM\", \"RM\", \"LM\"]\n",
        "defender_player = [\"CB\", \"RCB\", \"LCB\", \"LWB\", \"RWB\", \"LB\", \"RB\"]\n",
        "\n",
        "categories= [gk, forward_player, midfielder_player, defender_player]\n",
        "categ= ['gk', 'forward_player','midfielder_player', 'defender_player']"
      ],
      "metadata": {
        "id": "oT62YDJyTwCY"
      },
      "execution_count": 4,
      "outputs": []
    },
    {
      "cell_type": "code",
      "source": [
        "#transforming y into the four categories\n",
        "for i in range(len(categories)):\n",
        "  for j in range(len(y)):\n",
        "    if y[j] in categories[i]:\n",
        "      y[j]=categ[i]"
      ],
      "metadata": {
        "id": "cVXkpAaLY12u"
      },
      "execution_count": 5,
      "outputs": []
    },
    {
      "cell_type": "code",
      "source": [
        "cat, num = \"Position\", \"SlidingTackle\"\n",
        "fig, ax = plt.subplots(nrows=3, ncols=1,  sharex=False, sharey=False)\n",
        "fig.suptitle('X' + \"   vs   \" + 'Y', fontsize=20)\n",
        "            \n",
        "### distribution\n",
        "ax[0].title.set_text('density')\n",
        "for i in df[cat].unique():\n",
        "    sns.distplot(df[df[cat]==i][num], hist=False, label=i, ax=ax[0])\n",
        "ax[0].grid(True)\n",
        "### stacked\n",
        "ax[1].title.set_text('bins')\n",
        "breaks = np.quantile(df[num], q=np.linspace(0,1,11))\n",
        "tmp = df.groupby([cat, pd.cut(df[num], breaks, duplicates='drop')]).size().unstack().T\n",
        "tmp = tmp[df[cat].unique()]\n",
        "tmp[\"tot\"] = tmp.sum(axis=1)\n",
        "for col in tmp.drop(\"tot\", axis=1).columns:\n",
        "     tmp[col] = tmp[col] / tmp[\"tot\"]\n",
        "tmp.drop(\"tot\", axis=1).plot(kind='bar', stacked=True, ax=ax[1], legend=False, grid=True)\n",
        "\n",
        "### boxplot   \n",
        "ax[2].title.set_text('outliers')\n",
        "sns.catplot(x=cat, y=num, data=df, kind=\"box\", ax=ax[2])\n",
        "ax[2].grid(True)\n",
        "plt.show()"
      ],
      "metadata": {
        "colab": {
          "base_uri": "https://localhost:8080/",
          "height": 845
        },
        "id": "LzqZJWkLRWHy",
        "outputId": "8991faf5-1e7f-4cdc-bc14-76c487d29b8d"
      },
      "execution_count": null,
      "outputs": [
        {
          "output_type": "stream",
          "name": "stderr",
          "text": [
            "/usr/local/lib/python3.7/dist-packages/seaborn/distributions.py:2619: FutureWarning: `distplot` is a deprecated function and will be removed in a future version. Please adapt your code to use either `displot` (a figure-level function with similar flexibility) or `kdeplot` (an axes-level function for kernel density plots).\n",
            "  warnings.warn(msg, FutureWarning)\n",
            "/usr/local/lib/python3.7/dist-packages/seaborn/distributions.py:2619: FutureWarning: `distplot` is a deprecated function and will be removed in a future version. Please adapt your code to use either `displot` (a figure-level function with similar flexibility) or `kdeplot` (an axes-level function for kernel density plots).\n",
            "  warnings.warn(msg, FutureWarning)\n",
            "/usr/local/lib/python3.7/dist-packages/seaborn/distributions.py:2619: FutureWarning: `distplot` is a deprecated function and will be removed in a future version. Please adapt your code to use either `displot` (a figure-level function with similar flexibility) or `kdeplot` (an axes-level function for kernel density plots).\n",
            "  warnings.warn(msg, FutureWarning)\n",
            "/usr/local/lib/python3.7/dist-packages/seaborn/distributions.py:2619: FutureWarning: `distplot` is a deprecated function and will be removed in a future version. Please adapt your code to use either `displot` (a figure-level function with similar flexibility) or `kdeplot` (an axes-level function for kernel density plots).\n",
            "  warnings.warn(msg, FutureWarning)\n",
            "/usr/local/lib/python3.7/dist-packages/seaborn/categorical.py:3775: UserWarning: catplot is a figure-level function and does not accept target axes. You may wish to try boxplot\n",
            "  warnings.warn(msg, UserWarning)\n"
          ]
        },
        {
          "output_type": "display_data",
          "data": {
            "text/plain": [
              "<Figure size 432x288 with 3 Axes>"
            ],
            "image/png": "[encoded data removed]"
          },
          "metadata": {
            "needs_background": "light"
          }
        },
        {
          "output_type": "display_data",
          "data": {
            "text/plain": [
              "<Figure size 360x360 with 1 Axes>"
            ],
            "image/png": "[encoded data removed]"
          },
          "metadata": {
            "needs_background": "light"
          }
        }
      ]
    },
    {
      "cell_type": "code",
      "source": [
        "plt.figure()      \n",
        "### distribution\n",
        "plt.title('density')\n",
        "for i in df[cat].unique():\n",
        "    sns.distplot(df[df[cat]==i][num], hist=False, label=i)\n",
        "plt.grid(True)\n",
        "plt.legend()\n",
        "plt.show()"
      ],
      "metadata": {
        "colab": {
          "base_uri": "https://localhost:8080/",
          "height": 458
        },
        "id": "TQpz-8OFSmJT",
        "outputId": "bc6b5ed7-9050-44ff-8985-bcaf94be831a"
      },
      "execution_count": null,
      "outputs": [
        {
          "output_type": "stream",
          "name": "stderr",
          "text": [
            "/usr/local/lib/python3.7/dist-packages/seaborn/distributions.py:2619: FutureWarning: `distplot` is a deprecated function and will be removed in a future version. Please adapt your code to use either `displot` (a figure-level function with similar flexibility) or `kdeplot` (an axes-level function for kernel density plots).\n",
            "  warnings.warn(msg, FutureWarning)\n",
            "/usr/local/lib/python3.7/dist-packages/seaborn/distributions.py:2619: FutureWarning: `distplot` is a deprecated function and will be removed in a future version. Please adapt your code to use either `displot` (a figure-level function with similar flexibility) or `kdeplot` (an axes-level function for kernel density plots).\n",
            "  warnings.warn(msg, FutureWarning)\n",
            "/usr/local/lib/python3.7/dist-packages/seaborn/distributions.py:2619: FutureWarning: `distplot` is a deprecated function and will be removed in a future version. Please adapt your code to use either `displot` (a figure-level function with similar flexibility) or `kdeplot` (an axes-level function for kernel density plots).\n",
            "  warnings.warn(msg, FutureWarning)\n",
            "/usr/local/lib/python3.7/dist-packages/seaborn/distributions.py:2619: FutureWarning: `distplot` is a deprecated function and will be removed in a future version. Please adapt your code to use either `displot` (a figure-level function with similar flexibility) or `kdeplot` (an axes-level function for kernel density plots).\n",
            "  warnings.warn(msg, FutureWarning)\n"
          ]
        },
        {
          "output_type": "display_data",
          "data": {
            "text/plain": [
              "<Figure size 432x288 with 1 Axes>"
            ],
            "image/png": "[encoded data removed]"
          },
          "metadata": {
            "needs_background": "light"
          }
        }
      ]
    },
    {
      "cell_type": "code",
      "source": [
        "### stacked\n",
        "plt.title('bins')\n",
        "breaks = np.quantile(df[num], q=np.linspace(0,1,11))\n",
        "tmp = df.groupby([cat, pd.cut(df[num], breaks, duplicates='drop')]).size().unstack().T\n",
        "tmp = tmp[df[cat].unique()]\n",
        "tmp[\"tot\"] = tmp.sum(axis=1)\n",
        "for col in tmp.drop(\"tot\", axis=1).columns:\n",
        "     tmp[col] = tmp[col] / tmp[\"tot\"]\n",
        "tmp.drop(\"tot\", axis=1).plot(kind='bar', stacked=True, legend=False, grid=True)"
      ],
      "metadata": {
        "colab": {
          "base_uri": "https://localhost:8080/",
          "height": 610
        },
        "id": "GF8Dar-zSxTK",
        "outputId": "7ee763c4-e57b-460e-ba2f-8818c6abf527"
      },
      "execution_count": null,
      "outputs": [
        {
          "output_type": "execute_result",
          "data": {
            "text/plain": [
              "<matplotlib.axes._subplots.AxesSubplot at 0x7f982d6459d0>"
            ]
          },
          "metadata": {},
          "execution_count": 9
        },
        {
          "output_type": "display_data",
          "data": {
            "text/plain": [
              "<Figure size 432x288 with 1 Axes>"
            ],
            "image/png": "[encoded data removed]"
          },
          "metadata": {
            "needs_background": "light"
          }
        },
        {
          "output_type": "display_data",
          "data": {
            "text/plain": [
              "<Figure size 432x288 with 1 Axes>"
            ],
            "image/png": "[encoded data removed]"
          },
          "metadata": {
            "needs_background": "light"
          }
        }
      ]
    },
    {
      "cell_type": "code",
      "source": [
        "### boxplot   \n",
        "plt.figure()\n",
        "plt.title('outliers')\n",
        "sns.catplot(x=cat, y=num, data=df, kind=\"box\")\n",
        "plt.grid(True)\n",
        "plt.show()"
      ],
      "metadata": {
        "colab": {
          "base_uri": "https://localhost:8080/",
          "height": 633
        },
        "id": "UT8Vd1TyS3ws",
        "outputId": "c009afab-da58-42b7-d1f2-2c02ab192656"
      },
      "execution_count": null,
      "outputs": [
        {
          "output_type": "display_data",
          "data": {
            "text/plain": [
              "<Figure size 432x288 with 1 Axes>"
            ],
            "image/png": "[encoded data removed]"
          },
          "metadata": {
            "needs_background": "light"
          }
        },
        {
          "output_type": "display_data",
          "data": {
            "text/plain": [
              "<Figure size 360x360 with 1 Axes>"
            ],
            "image/png": "[encoded data removed]"
          },
          "metadata": {
            "needs_background": "light"
          }
        }
      ]
    },
    {
      "cell_type": "code",
      "source": [
        "df_train, df_test = model_selection.train_test_split(df,test_size=0.3)"
      ],
      "metadata": {
        "id": "rnhnV_MPS9Yc"
      },
      "execution_count": 118,
      "outputs": []
    },
    {
      "cell_type": "code",
      "source": [
        "x_train, x_test, y_train, y_test= train_test_split(x, y, test_size=0.3)\n",
        "\n",
        "x1 = df_train.drop(\"Position\", axis=1).values\n",
        "y1 = df_train[\"Position\"].values\n",
        "\n",
        "feature_names = df_train.drop(\"Position\", axis=1).columns.tolist()\n",
        "## Importance\n",
        "model = ensemble.RandomForestClassifier(n_estimators=100,\n",
        "                      criterion=\"entropy\", random_state=0)\n",
        "model.fit(x1,y1)\n",
        "importances = model.feature_importances_\n",
        "\n",
        "print(len(feature_names), len(importances))\n",
        "\n",
        "## Put in a pandas dtf\n",
        "dtf_importances = pd.DataFrame({\"IMPORTANCE\":importances, \n",
        "            \"VARIABLE\":feature_names}).sort_values(\"IMPORTANCE\", \n",
        "            ascending=False)\n",
        "dtf_importances['cumsum'] =  dtf_importances['IMPORTANCE'].cumsum(axis=0)\n",
        "dtf_importances = dtf_importances.set_index(\"VARIABLE\")\n",
        "    \n",
        "## Plot\n",
        "fig, ax = plt.subplots(nrows=1, ncols=2, sharex=False, sharey=False, figsize=(10,3))\n",
        "fig.suptitle(\"Features Importance\", fontsize=20)\n",
        "ax[0].title.set_text('variables')\n",
        "dtf_importances[[\"IMPORTANCE\"]].sort_values(by=\"IMPORTANCE\").plot(kind=\"barh\", legend=False, ax=ax[0]).grid(axis=\"x\")\n",
        "ax[0].set(ylabel=\"\")\n",
        "ax[1].title.set_text('cumulative')\n",
        "dtf_importances[[\"cumsum\"]].plot(kind=\"line\", linewidth=4, \n",
        "                                 legend=False, ax=ax[1])\n",
        "ax[1].set(xlabel=\"\", xticks=np.arange(len(dtf_importances)), \n",
        "          xticklabels=dtf_importances.index)\n",
        "plt.xticks(rotation=70)\n",
        "plt.grid(axis='both')\n",
        "plt.show()"
      ],
      "metadata": {
        "colab": {
          "base_uri": "https://localhost:8080/",
          "height": 326
        },
        "id": "GjjB4BFzTCec",
        "outputId": "f7716cdb-3c57-4cab-aa46-347c57e4a73d"
      },
      "execution_count": 127,
      "outputs": [
        {
          "output_type": "stream",
          "name": "stdout",
          "text": [
            "33 33\n"
          ]
        },
        {
          "output_type": "display_data",
          "data": {
            "text/plain": [
              "<Figure size 720x216 with 2 Axes>"
            ],
            "image/png": "[encoded data removed]"
          },
          "metadata": {
            "needs_background": "light"
          }
        }
      ]
    },
    {
      "cell_type": "code",
      "source": [
        "x_train, x_test, y_train, y_test= train_test_split(x, y, test_size=0.3)\n",
        "\n",
        "x1 = x_train\n",
        "y1 = y_train\n",
        "\n",
        "\n",
        "feature_names = iris.feature_names\n",
        "## Importance\n",
        "model = ensemble.RandomForestClassifier(n_estimators=100,\n",
        "                      criterion=\"entropy\", random_state=0)\n",
        "model.fit(x1,y1)\n",
        "importances = model.feature_importances_\n",
        "\n",
        "print(len(feature_names), len(importances))\n",
        "\n",
        "## Put in a pandas dtf\n",
        "dtf_importances = pd.DataFrame({\"IMPORTANCE\":importances, \n",
        "            \"VARIABLE\":feature_names}).sort_values(\"IMPORTANCE\", \n",
        "            ascending=False)\n",
        "dtf_importances['cumsum'] =  dtf_importances['IMPORTANCE'].cumsum(axis=0)\n",
        "dtf_importances = dtf_importances.set_index(\"VARIABLE\")\n",
        "    \n",
        "## Plot\n",
        "fig, ax = plt.subplots(nrows=1, ncols=2, sharex=False, sharey=False, figsize=(10,3))\n",
        "fig.suptitle(\"Features Importance\", fontsize=20)\n",
        "ax[0].title.set_text('variables')\n",
        "dtf_importances[[\"IMPORTANCE\"]].sort_values(by=\"IMPORTANCE\").plot(kind=\"barh\", legend=False, ax=ax[0]).grid(axis=\"x\")\n",
        "ax[0].set(ylabel=\"\")\n",
        "ax[1].title.set_text('cumulative')\n",
        "dtf_importances[[\"cumsum\"]].plot(kind=\"line\", linewidth=4, \n",
        "                                 legend=False, ax=ax[1])\n",
        "ax[1].set(xlabel=\"\", xticks=np.arange(len(dtf_importances)), \n",
        "          xticklabels=dtf_importances.index)\n",
        "plt.xticks(rotation=70)\n",
        "plt.grid(axis='both')\n",
        "plt.show()"
      ],
      "metadata": {
        "colab": {
          "base_uri": "https://localhost:8080/",
          "height": 326
        },
        "id": "Bs3J2XAXigHb",
        "outputId": "8055ae91-f0b0-402f-9112-0ea889456388"
      },
      "execution_count": 136,
      "outputs": [
        {
          "output_type": "stream",
          "name": "stdout",
          "text": [
            "4 4\n"
          ]
        },
        {
          "output_type": "display_data",
          "data": {
            "text/plain": [
              "<Figure size 720x216 with 2 Axes>"
            ],
            "image/png": "[encoded data removed]"
          },
          "metadata": {
            "needs_background": "light"
          }
        }
      ]
    },
    {
      "cell_type": "code",
      "source": [
        "x_train"
      ],
      "metadata": {
        "colab": {
          "base_uri": "https://localhost:8080/"
        },
        "id": "j0pLcfopmwcy",
        "outputId": "f96bd6cd-745d-45ec-b0b1-a521c54f76a8"
      },
      "execution_count": 126,
      "outputs": [
        {
          "output_type": "execute_result",
          "data": {
            "text/plain": [
              "array([[1.282e+01, 3.370e+00, 2.300e+00, ..., 7.200e-01, 1.750e+00,\n",
              "        6.850e+02],\n",
              "       [1.208e+01, 1.330e+00, 2.300e+00, ..., 1.070e+00, 3.210e+00,\n",
              "        6.250e+02],\n",
              "       [1.364e+01, 3.100e+00, 2.560e+00, ..., 9.600e-01, 3.360e+00,\n",
              "        8.450e+02],\n",
              "       ...,\n",
              "       [1.410e+01, 2.020e+00, 2.400e+00, ..., 1.070e+00, 2.750e+00,\n",
              "        1.060e+03],\n",
              "       [1.356e+01, 1.730e+00, 2.460e+00, ..., 9.800e-01, 3.030e+00,\n",
              "        1.120e+03],\n",
              "       [1.296e+01, 3.450e+00, 2.350e+00, ..., 6.800e-01, 1.750e+00,\n",
              "        6.750e+02]])"
            ]
          },
          "metadata": {},
          "execution_count": 126
        }
      ]
    },
    {
      "cell_type": "markdown",
      "source": [
        "#EDA"
      ],
      "metadata": {
        "id": "67YcxrJ59EgH"
      }
    },
    {
      "cell_type": "markdown",
      "source": [
        "#Robust LDA"
      ],
      "metadata": {
        "id": "Xv9QLd1U9JFy"
      }
    },
    {
      "cell_type": "code",
      "source": [
        "#Desviación estándar robusta\n",
        "def robust_std(lista):\n",
        "  aux= [np.abs(i - np.median(lista)) for i in lista]\n",
        "  return np.median(aux)\n",
        "\n",
        "def std_pearson(lista1,lista2):\n",
        "  lista1= np.array(lista1)\n",
        "  lista2= np.array(lista2)\n",
        "  return np.median( np.dot(abs(lista1-np.median(lista1)),abs(lista2-np.median(lista2).T )) )\n",
        "\n",
        "#Calcula la covarianza entre dos vectores\n",
        "def corr_cov(a,b, metodo):\n",
        "  if metodo=='Kendall':\n",
        "    tau,_ = stats.kendalltau(a, b)\n",
        "    cov= tau*robust_std(a)*robust_std(b)\n",
        "  elif metodo== 'Spearman':\n",
        "    sp,_ =stats.spearmanr(a,b)\n",
        "    cov= sp*robust_std(a)*robust_std(b)\n",
        "  elif metodo=='Pearson r':\n",
        "    cij= std_pearson(a,b)\n",
        "    cii= std_pearson(a,a)\n",
        "    cjj= std_pearson(b,b)\n",
        "    p= cij/(np.sqrt(cii*cjj))\n",
        "    cov= p*robust_std(a)*robust_std(b)\n",
        "  return cov\n",
        "\n",
        "\n",
        "def matriz_cov_coefs(matriz, metodo):\n",
        "  matriz= np.array(matriz)\n",
        "  if metodo=='Pearson r':\n",
        "    _,c= matriz.shape\n",
        "    corr= np.zeros((c,c))\n",
        "    for i in range(c):\n",
        "      for j in range(i,c):\n",
        "        corr[i,j] = corr_cov(matriz[:,i],matriz[:,j], metodo)\n",
        "        corr[j,i] = corr[i,j]\n",
        "  else:\n",
        "    corr=pd.DataFrame(matriz).corr(method=metodo).values\n",
        "    _,c= corr.shape\n",
        "    for i in range(c):\n",
        "      for j in range(i,c):\n",
        "        corr[i,j]=  corr[i,j] * robust_std(matriz[:,i])*robust_std(matriz[:,j])\n",
        "        corr[j,i]= corr[i,j]\n",
        "  return corr\n",
        "\n",
        "def matriz_cov_MCD(matriz):\n",
        "  return MinCovDet(random_state=0).fit(matriz).covariance_\n",
        "\n",
        "def matriz_cov_shrinkages(matriz):\n",
        "  return LedoitWolf().fit(matriz).covariance_\n",
        "\n",
        "\n",
        "def matriz_covarianza(matriz, metodo):\n",
        "  if metodo=='kendall' or metodo=='spearman' or metodo=='pearson':\n",
        "    return matriz_cov_coefs(matriz, metodo)\n",
        "  elif metodo== 'Pearson r':\n",
        "    return matriz_cov_coefs(matriz, metodo)\n",
        "  elif metodo=='fastMCD':\n",
        "    return matriz_cov_MCD(matriz)\n",
        "  elif metodo== 'Shrinkages':\n",
        "    return matriz_cov_shrinkages(matriz)\n",
        "  else:\n",
        "    print('Método incorrecto, disponibles: Kendall, Spearman, Pearson, fastMCD, Shrinkages')"
      ],
      "metadata": {
        "id": "TqtqOu89Vp6c"
      },
      "execution_count": 6,
      "outputs": []
    },
    {
      "cell_type": "code",
      "source": [
        "# Standarization: (A[i,j]-mu[j])/sigma[j]\n",
        "def standardization1(matriz):\n",
        "  matriz_stand= np.zeros((len(matriz), len(matriz[0])))\n",
        "  for i in range(len(matriz[0])):\n",
        "    desv= robust_std(matriz[:,i])\n",
        "    aveg= np.mean(matriz[:,i])\n",
        "    for j in range(len(matriz)):\n",
        "      matriz_stand[j,i]= (matriz[j,i]- aveg)/desv\n",
        "  return matriz_stand"
      ],
      "metadata": {
        "id": "1oTUEssmUO2r"
      },
      "execution_count": 7,
      "outputs": []
    },
    {
      "cell_type": "code",
      "source": [
        "# Robust Standardization\n",
        "from sklearn.preprocessing import RobustScaler\n",
        "def standardization(matriz):\n",
        "  transformer = RobustScaler().fit(matriz)\n",
        "  return transformer.transform(matriz)"
      ],
      "metadata": {
        "id": "YNCQ959PejDP"
      },
      "execution_count": 8,
      "outputs": []
    },
    {
      "cell_type": "code",
      "source": [
        "def suma_covarianzas(covs):\n",
        "  sumcov= covs[0]\n",
        "  for i in range(1, len(covs)):\n",
        "    sumcov= np.add(sumcov,covs[i])\n",
        "  return sumcov"
      ],
      "metadata": {
        "id": "9TmIrgwcYHnY"
      },
      "execution_count": 9,
      "outputs": []
    },
    {
      "cell_type": "code",
      "source": [
        "def clase(x,y):\n",
        "  \n",
        "  clases=[y[0]]\n",
        "  \n",
        "  for i in y:\n",
        "    if i not in clases:\n",
        "      clases.append(i)\n",
        "  \n",
        "  grupos= [[] for i in range(len(clases))]\n",
        "\n",
        "  for i in range(len(clases)):\n",
        "    for j in range(len(y)):\n",
        "      if y[j]==clases[i]:\n",
        "        grupos[i].append(x[j])\n",
        "\n",
        "  #Se calcula la media a cada variable de cada poblacion\n",
        "  medias= []\n",
        "  for i in grupos:\n",
        "    medias.append(np.mean(i,axis=0))\n",
        "\n",
        "  return grupos, medias, clases\n"
      ],
      "metadata": {
        "id": "yquPzjpQYIVx"
      },
      "execution_count": 10,
      "outputs": []
    },
    {
      "cell_type": "code",
      "source": [
        "def robust_LDA(x,y, metodo):\n",
        "\n",
        "  grupos,m, clas=clase(x, y)\n",
        "\n",
        "  covs= [matriz_covarianza(np.array(grupos[i]), metodo) for i in range(len(grupos))]\n",
        "  covs= np.array(covs)\n",
        "\n",
        "  sigmaM= suma_covarianzas(covs)\n",
        "\n",
        "  pi= [len(i)/len(x) for i in grupos]\n",
        "\n",
        "  covB2= matriz_covarianza(np.array(m), metodo)\n",
        "  \n",
        "  if len(grupos)==2:\n",
        "    sigmaB= [m1-m2 for m1,m2 in zip(m[0],m[1])]\n",
        "    b= np.dot(np.linalg.pinv(sigmaM),np.array(sigmaB).T)\n",
        "    pi1= len(grupos[0])/len(x)\n",
        "    pi2= len(grupos[1])/len(x)\n",
        "    b0= -(1/2)* ( np.dot(np.dot(m[0].T,np.linalg.pinv(sigmaM)),m[0]) - np.dot(np.dot(m[1].T,np.linalg.pinv(sigmaM)),m[1]) ) + np.log(pi2/pi1) \n",
        "    return grupos,m, clas,b0, b\n",
        "  else:\n",
        "    return grupos,m,clas,covs"
      ],
      "metadata": {
        "id": "mIFuIQgIYLqb"
      },
      "execution_count": 11,
      "outputs": []
    },
    {
      "cell_type": "code",
      "source": [
        "def LDA_reduction(x,y, metodo, porc_explicado):\n",
        "\n",
        "  grupos,m, clas=clase(x, y)\n",
        "  covs= [matriz_covarianza(np.array(grupos[i]), metodo) for i in range(len(grupos))]\n",
        "  covs= np.array(covs)\n",
        "\n",
        "  sigmaM= suma_covarianzas(covs)\n",
        "\n",
        "  covB2= matriz_covarianza(np.array(m), metodo)\n",
        "\n",
        "  eigen_values, eigen_vectors = np.linalg.eig(np.linalg.pinv(sigmaM).dot(covB2))\n",
        "\n",
        "  pairs = [(np.abs(eigen_values[i]), eigen_vectors[:,i]) for i in range(len(eigen_values))]\n",
        "  pairs = sorted(pairs, key=lambda x: x[0], reverse=True)\n",
        "\n",
        "  #como es dificil determinar cuanto explica con los valores generados anteriormente \n",
        "  #por lo que se expresa en porcentajes\n",
        "\n",
        "  eigen_value_sums = sum(eigen_values)\n",
        "\n",
        "  eigen_value_sums = sum(eigen_values)\n",
        "  eigen_exp=[]\n",
        "  var_exp=[]\n",
        "\n",
        "  porc=0\n",
        "  #print('Explained Variance')\n",
        "  for i, pair in enumerate(pairs):\n",
        "    \n",
        "    #print('Eigenvector {}: {}'.format(i, (pair[0]/eigen_value_sums).real))\n",
        "    var_exp.append((pair[0]/eigen_value_sums).real)\n",
        "    porc+= pair[0]/eigen_value_sums\n",
        "    if porc< porc_explicado:\n",
        "      eigen_exp.append(i)\n",
        "  \n",
        "  cum_var_exp = np.cumsum(var_exp)\n",
        "\n",
        "  '''\n",
        "  # plot explained variances\n",
        "  plt.bar(range(1,34), var_exp, alpha=0.5,\n",
        "          align='center', label='individual explained variance')\n",
        "  plt.step(range(1,34), cum_var_exp, where='mid',\n",
        "          label='cumulative explained variance')\n",
        "  plt.ylabel('Explained variance ratio')\n",
        "  plt.xlabel('Principal component index')\n",
        "  plt.legend(loc='best')\n",
        "  plt.show() \n",
        "  '''\n",
        "\n",
        "  lda = LinearDiscriminantAnalysis()\n",
        "  X_lda = lda.fit_transform(x, y)\n",
        "\n",
        "\n",
        "  w_matriz= np.zeros( ( len(pairs[0][1]),len(eigen_exp) ) )\n",
        "  for i in range(len(eigen_exp)):\n",
        "    for j in range(len(pairs[0][1])):\n",
        "      w_matriz[j,i]= pairs[eigen_exp[i]][1][j]\n",
        "\n",
        "  w_matriz= w_matriz.real\n",
        "\n",
        "  x_lda = np.array(np.array(x).dot(w_matriz))\n",
        "\n",
        "  return X_lda"
      ],
      "metadata": {
        "id": "OV-WeNmttMrH"
      },
      "execution_count": 12,
      "outputs": []
    },
    {
      "cell_type": "code",
      "source": [
        "def LDA_reduction1(x,y):\n",
        "\n",
        "  lda = LinearDiscriminantAnalysis()\n",
        "  X_lda = lda.fit_transform(x, y)\n",
        "\n",
        "  return X_lda"
      ],
      "metadata": {
        "id": "pm0zB1eAdzO7"
      },
      "execution_count": 13,
      "outputs": []
    },
    {
      "cell_type": "code",
      "source": [
        "def robust_LDA2(x_train,y, metodo, porc_explicado):\n",
        "\n",
        "  x= LDA_reduction(x_train,y,metodo, porc_explicado)\n",
        "\n",
        "  grupos,m, clas=clase(x, y)\n",
        "\n",
        "  covs= [matriz_covarianza(np.array(grupos[i]), metodo) for i in range(len(grupos))]\n",
        "  covs= np.array(covs)\n",
        "\n",
        "  sigmaM= suma_covarianzas(covs)\n",
        "\n",
        "  if len(grupos)==2:\n",
        "    sigmaB= [m1-m2 for m1,m2 in zip(m[0],m[1])]\n",
        "    b= np.dot(np.linalg.pinv(sigmaM),np.array(sigmaB).T)\n",
        "    pi1= len(grupos[0])/len(x)\n",
        "    pi2= len(grupos[1])/len(x)\n",
        "    b0= -(1/2)* ( np.dot(np.dot(m[0].T,np.linalg.pinv(sigmaM)),m[0]) - np.dot(np.dot(m[1].T,np.linalg.pinv(sigmaM)),m[1]) ) + np.log(pi2/pi1) \n",
        "    return grupos,m, clas,b0, b\n",
        "  else:\n",
        "    return grupos,m,clas,covs"
      ],
      "metadata": {
        "id": "Lood3ub-FhsE"
      },
      "execution_count": 14,
      "outputs": []
    },
    {
      "cell_type": "code",
      "source": [
        "def predict(x_test,grups, m, clas, b0=None, b=None, covs=None):\n",
        "  y_pred= np.zeros(len(x_test))\n",
        "  if len(clas)==2:\n",
        "    for i in range(len(x_test)):\n",
        "      L= b0 + np.dot(b.T,x_test[i])\n",
        "      if L>0:\n",
        "        y_pred[i]=(int(0))\n",
        "      else:\n",
        "        y_pred[i]=(int(1))\n",
        "  else:\n",
        "    p= [len(grups[i])/len(x_test) for i in range(len(grups)) ]\n",
        "    for j in range(len(x_test)):\n",
        "      l= [ np.log(p[i]) -(1/2)*np.log(np.linalg.det(covs[i])) -(1/2)* np.dot(np.dot(np.array(m[i]).T,np.linalg.pinv(covs[i])),m[i]) + np.dot(np.dot(np.array(m[i]).T,np.linalg.pinv(covs[i])), x_test[j]) -(1/2)*np.dot(np.dot(np.array(x_test[j]).T,np.linalg.pinv(covs[i])),x_test[j]) for i in range(len(m))  ]\n",
        "      y_pred[j]= np.argmax(l)\n",
        "  return y_pred"
      ],
      "metadata": {
        "id": "sYdGF8-4YRHq"
      },
      "execution_count": 15,
      "outputs": []
    },
    {
      "cell_type": "code",
      "source": [
        "def convert(y_test, clas):\n",
        "\n",
        "  for i in range(len(clas)):\n",
        "    for j in range(len(y_test)):\n",
        "      if y_test[j]==clas[i]:\n",
        "        y_test[j] = int(i)\n",
        "\n",
        "  return y_test"
      ],
      "metadata": {
        "id": "McSr0uEYYTkg"
      },
      "execution_count": 16,
      "outputs": []
    },
    {
      "cell_type": "code",
      "source": [
        "def diferent_class(y):\n",
        "  aux= [y[0]]\n",
        "  cont=1\n",
        "  for i in range(1,len(y)):\n",
        "    if y[i] not in aux:\n",
        "      aux.append(y[i])\n",
        "      cont+=1\n",
        "  return cont"
      ],
      "metadata": {
        "id": "TddtImzDYZSk"
      },
      "execution_count": 17,
      "outputs": []
    },
    {
      "cell_type": "code",
      "source": [
        "x_estand= standardization(x)"
      ],
      "metadata": {
        "id": "rhkLVopLUtg3"
      },
      "execution_count": 82,
      "outputs": []
    },
    {
      "cell_type": "markdown",
      "source": [
        "#Metricas"
      ],
      "metadata": {
        "id": "uqXoxjX2h4iw"
      }
    },
    {
      "cell_type": "code",
      "source": [
        "# Functions to compute True Positives, True Negatives, False Positives and False Negatives\n",
        "def TP(y_true, y_pred):\n",
        "  tp = 0\n",
        "  for yt, yp in zip(y_true, y_pred):\n",
        "    if yt == 1 and yp == 1:\n",
        "      tp += 1\n",
        "  return tp\n",
        "\n",
        "def true_negative(y_true, y_pred):\n",
        "  tn = 0\n",
        "  for yt, yp in zip(y_true, y_pred):\n",
        "    if yt == 0 and yp == 0:\n",
        "      tn += 1\n",
        "      return tn"
      ],
      "metadata": {
        "id": "1_EpZM9Qh6FM"
      },
      "execution_count": null,
      "outputs": []
    },
    {
      "cell_type": "code",
      "source": [
        "def aciertos(y_test, y_predic):\n",
        "  cont=0\n",
        "  for i in range(len(y_test)):\n",
        "    if int(y_test[i])==int(y_predic[i]):\n",
        "      cont+=1\n",
        "  \n",
        "  return cont"
      ],
      "metadata": {
        "id": "K4CVCLJ6YXD7"
      },
      "execution_count": 19,
      "outputs": []
    },
    {
      "cell_type": "code",
      "source": [
        "n=20\n",
        "\n",
        "auc= np.zeros(n)\n",
        "acc= np.zeros(n)\n",
        "\n",
        "#for multiclass\n",
        "scores=np.zeros(n)\n",
        "scores2=np.zeros(n)\n",
        "scores3=np.zeros(n)\n",
        "scores4=np.zeros(n)\n",
        "scores5=np.zeros(n)\n",
        "scores6=np.zeros(n)\n",
        "l1=np.zeros(n)\n",
        "l2= np.zeros(n)\n",
        "l3= np.zeros(n)\n",
        "l4= np.zeros(n)\n",
        "l5= np.zeros(n)\n",
        "l6= np.zeros(n)\n",
        "for i in range(n):\n",
        "  \n",
        "  x_train, x_test, y_train, y_test= train_test_split(x, y, test_size=0.3)\n",
        "  x_tr = LDA_reduction1(x_train,y_train)\n",
        "  x_te = LDA_reduction1(x_test,y_test)\n",
        "\n",
        "  num_clases= diferent_class(y_train)\n",
        "\n",
        "  if num_clases==2:\n",
        "    print(i)\n",
        "    grups, m, clas, b0,b =robust_LDA(x_train,y_train,'Shrinkages')\n",
        "    Prediction = predict(x_test, grups, m,clas, b0=b0, b=b)  \n",
        "    y_test= convert(y_test,clas)\n",
        "\n",
        "    y_true= [int(i) for i in y_test]\n",
        "    y_score= [int(i) for i in Prediction]\n",
        "  \n",
        "\n",
        "    fpr, tpr, threshold = metrics.roc_curve(np.array(y_true),np.array(y_score))\n",
        "    roc_auc = metrics.auc(fpr, tpr)\n",
        "    auc[i]=(roc_auc)\n",
        "    acc[i]=(accuracy_score(np.array(y_true),np.array(y_score)))\n",
        "\n",
        "  else:\n",
        "    print(i)\n",
        "    grups,m,clas,covs = robust_LDA(x_train,y_train,'Shrinkages')\n",
        "    Prediction = predict(x_test, grups, m,clas,covs=covs) \n",
        "    y_test= convert(y_test,clas)\n",
        "\n",
        "    y_true= [int(i) for i in y_test]\n",
        "    y_score= [int(i) for i in Prediction]\n",
        "\n",
        "    _,_,_,covs2 = robust_LDA(x_train,y_train,'fastMCD')\n",
        "    Prediction2 = predict(x_test, grups, m,clas,covs=covs2) \n",
        "    y_test= convert(y_test,clas)\n",
        "    y_score2= [int(i) for i in Prediction2]\n",
        "\n",
        "\n",
        "    _,_,_,covs3 = robust_LDA(x_train,y_train,'kendall')\n",
        "    Prediction3 = predict(x_test, grups, m,clas,covs=covs3) \n",
        "    y_test= convert(y_test,clas)\n",
        "    y_score3= [int(i) for i in Prediction3]\n",
        "\n",
        "    _,_,_,covs4 = robust_LDA(x_train,y_train,'spearman')\n",
        "    Prediction4 = predict(x_test, grups, m,clas,covs=covs4) \n",
        "    y_test= convert(y_test,clas)\n",
        "    y_score4= [int(i) for i in Prediction]\n",
        "\n",
        "    _,_,_,covs5 = robust_LDA(x_train,y_train,'Pearson r')\n",
        "    Prediction4 = predict(x_test, grups, m,clas,covs=covs5) \n",
        "    y_test= convert(y_test,clas)\n",
        "    y_score5= [int(i) for i in Prediction]\n",
        "\n",
        "\n",
        "          \n",
        "  y_test= convert(y_test,clas)\n",
        "  model = LinearDiscriminantAnalysis()\n",
        "  model.fit(x_train,y_train)\n",
        "  yhat= model.predict(x_test)\n",
        "  yhat= convert(yhat,clas)\n",
        "  yhat=[int(i) for i in yhat]\n",
        "\n",
        "  l1[i] = aciertos(y_true, y_score)/len(y_true)\n",
        "  l2[i] = aciertos(y_true, y_score2)/len(y_true)\n",
        "  l3[i] = aciertos(y_true, y_score3)/len(y_true)\n",
        "  l4[i] = aciertos(y_true, y_score4)/len(y_true)\n",
        "  l5[i] = aciertos(y_true, y_score5)/len(y_true)\n",
        "  l6[i] = aciertos(y_true, yhat)/len(y_true)\n",
        "  scores[i]=f1_score(y_true, y_score, average='weighted')\n",
        "  scores2[i]=f1_score(y_true, y_score2, average='weighted')\n",
        "  scores3[i]=f1_score(y_true, y_score3, average='weighted')\n",
        "  scores4[i]=f1_score(y_true, y_score4, average='weighted')\n",
        "  scores5[i]=f1_score(y_true, y_score5, average='weighted')\n",
        "  scores6[i]=f1_score(y_true, yhat, average='weighted')\n",
        "\n"
      ],
      "metadata": {
        "id": "fT5dTS0dGB5i",
        "colab": {
          "base_uri": "https://localhost:8080/"
        },
        "outputId": "675b21c3-83f1-409d-9bde-99f0df4fecf8"
      },
      "execution_count": 88,
      "outputs": [
        {
          "output_type": "stream",
          "name": "stdout",
          "text": [
            "0\n"
          ]
        },
        {
          "output_type": "stream",
          "name": "stderr",
          "text": [
            "/usr/local/lib/python3.7/dist-packages/sklearn/covariance/_robust_covariance.py:739: UserWarning: The covariance matrix associated to your dataset is not full rank\n",
            "  \"The covariance matrix associated to your dataset is not full rank\"\n",
            "/usr/local/lib/python3.7/dist-packages/ipykernel_launcher.py:13: RuntimeWarning: divide by zero encountered in log\n",
            "  del sys.path[0]\n"
          ]
        },
        {
          "output_type": "stream",
          "name": "stdout",
          "text": [
            "1\n"
          ]
        },
        {
          "output_type": "stream",
          "name": "stderr",
          "text": [
            "/usr/local/lib/python3.7/dist-packages/sklearn/covariance/_robust_covariance.py:739: UserWarning: The covariance matrix associated to your dataset is not full rank\n",
            "  \"The covariance matrix associated to your dataset is not full rank\"\n",
            "/usr/local/lib/python3.7/dist-packages/ipykernel_launcher.py:13: RuntimeWarning: divide by zero encountered in log\n",
            "  del sys.path[0]\n"
          ]
        },
        {
          "output_type": "stream",
          "name": "stdout",
          "text": [
            "2\n"
          ]
        },
        {
          "output_type": "stream",
          "name": "stderr",
          "text": [
            "/usr/local/lib/python3.7/dist-packages/sklearn/covariance/_robust_covariance.py:189: RuntimeWarning: Determinant has increased; this should not happen: log(det) > log(previous_det) (-16.483300520801585 > -84.820043031444584). You may want to try with a higher value of support_fraction (current value: 0.564).\n",
            "  RuntimeWarning,\n",
            "/usr/local/lib/python3.7/dist-packages/sklearn/covariance/_robust_covariance.py:739: UserWarning: The covariance matrix associated to your dataset is not full rank\n",
            "  \"The covariance matrix associated to your dataset is not full rank\"\n",
            "/usr/local/lib/python3.7/dist-packages/ipykernel_launcher.py:13: RuntimeWarning: divide by zero encountered in log\n",
            "  del sys.path[0]\n"
          ]
        },
        {
          "output_type": "stream",
          "name": "stdout",
          "text": [
            "3\n"
          ]
        },
        {
          "output_type": "stream",
          "name": "stderr",
          "text": [
            "/usr/local/lib/python3.7/dist-packages/sklearn/covariance/_robust_covariance.py:739: UserWarning: The covariance matrix associated to your dataset is not full rank\n",
            "  \"The covariance matrix associated to your dataset is not full rank\"\n"
          ]
        },
        {
          "output_type": "stream",
          "name": "stdout",
          "text": [
            "4\n"
          ]
        },
        {
          "output_type": "stream",
          "name": "stderr",
          "text": [
            "/usr/local/lib/python3.7/dist-packages/sklearn/covariance/_robust_covariance.py:739: UserWarning: The covariance matrix associated to your dataset is not full rank\n",
            "  \"The covariance matrix associated to your dataset is not full rank\"\n",
            "/usr/local/lib/python3.7/dist-packages/ipykernel_launcher.py:13: RuntimeWarning: divide by zero encountered in log\n",
            "  del sys.path[0]\n"
          ]
        },
        {
          "output_type": "stream",
          "name": "stdout",
          "text": [
            "5\n"
          ]
        },
        {
          "output_type": "stream",
          "name": "stderr",
          "text": [
            "/usr/local/lib/python3.7/dist-packages/sklearn/covariance/_robust_covariance.py:739: UserWarning: The covariance matrix associated to your dataset is not full rank\n",
            "  \"The covariance matrix associated to your dataset is not full rank\"\n",
            "/usr/local/lib/python3.7/dist-packages/ipykernel_launcher.py:13: RuntimeWarning: divide by zero encountered in log\n",
            "  del sys.path[0]\n"
          ]
        },
        {
          "output_type": "stream",
          "name": "stdout",
          "text": [
            "6\n"
          ]
        },
        {
          "output_type": "stream",
          "name": "stderr",
          "text": [
            "/usr/local/lib/python3.7/dist-packages/sklearn/covariance/_robust_covariance.py:189: RuntimeWarning: Determinant has increased; this should not happen: log(det) > log(previous_det) (-17.263313992909975 > -85.364325886082639). You may want to try with a higher value of support_fraction (current value: 0.576).\n",
            "  RuntimeWarning,\n",
            "/usr/local/lib/python3.7/dist-packages/sklearn/covariance/_robust_covariance.py:189: RuntimeWarning: Determinant has increased; this should not happen: log(det) > log(previous_det) (-17.286481043266136 > -85.470420193557032). You may want to try with a higher value of support_fraction (current value: 0.576).\n",
            "  RuntimeWarning,\n",
            "/usr/local/lib/python3.7/dist-packages/sklearn/covariance/_robust_covariance.py:189: RuntimeWarning: Determinant has increased; this should not happen: log(det) > log(previous_det) (-17.298867421895498 > -85.644772306152035). You may want to try with a higher value of support_fraction (current value: 0.576).\n",
            "  RuntimeWarning,\n",
            "/usr/local/lib/python3.7/dist-packages/sklearn/covariance/_robust_covariance.py:739: UserWarning: The covariance matrix associated to your dataset is not full rank\n",
            "  \"The covariance matrix associated to your dataset is not full rank\"\n",
            "/usr/local/lib/python3.7/dist-packages/ipykernel_launcher.py:13: RuntimeWarning: divide by zero encountered in log\n",
            "  del sys.path[0]\n"
          ]
        },
        {
          "output_type": "stream",
          "name": "stdout",
          "text": [
            "7\n"
          ]
        },
        {
          "output_type": "stream",
          "name": "stderr",
          "text": [
            "/usr/local/lib/python3.7/dist-packages/sklearn/covariance/_robust_covariance.py:739: UserWarning: The covariance matrix associated to your dataset is not full rank\n",
            "  \"The covariance matrix associated to your dataset is not full rank\"\n",
            "/usr/local/lib/python3.7/dist-packages/ipykernel_launcher.py:13: RuntimeWarning: divide by zero encountered in log\n",
            "  del sys.path[0]\n"
          ]
        },
        {
          "output_type": "stream",
          "name": "stdout",
          "text": [
            "8\n"
          ]
        },
        {
          "output_type": "stream",
          "name": "stderr",
          "text": [
            "/usr/local/lib/python3.7/dist-packages/sklearn/covariance/_robust_covariance.py:739: UserWarning: The covariance matrix associated to your dataset is not full rank\n",
            "  \"The covariance matrix associated to your dataset is not full rank\"\n",
            "/usr/local/lib/python3.7/dist-packages/ipykernel_launcher.py:13: RuntimeWarning: divide by zero encountered in log\n",
            "  del sys.path[0]\n"
          ]
        },
        {
          "output_type": "stream",
          "name": "stdout",
          "text": [
            "9\n"
          ]
        },
        {
          "output_type": "stream",
          "name": "stderr",
          "text": [
            "/usr/local/lib/python3.7/dist-packages/sklearn/covariance/_robust_covariance.py:739: UserWarning: The covariance matrix associated to your dataset is not full rank\n",
            "  \"The covariance matrix associated to your dataset is not full rank\"\n",
            "/usr/local/lib/python3.7/dist-packages/ipykernel_launcher.py:13: RuntimeWarning: divide by zero encountered in log\n",
            "  del sys.path[0]\n"
          ]
        },
        {
          "output_type": "stream",
          "name": "stdout",
          "text": [
            "10\n"
          ]
        },
        {
          "output_type": "stream",
          "name": "stderr",
          "text": [
            "/usr/local/lib/python3.7/dist-packages/sklearn/covariance/_robust_covariance.py:739: UserWarning: The covariance matrix associated to your dataset is not full rank\n",
            "  \"The covariance matrix associated to your dataset is not full rank\"\n",
            "/usr/local/lib/python3.7/dist-packages/ipykernel_launcher.py:13: RuntimeWarning: divide by zero encountered in log\n",
            "  del sys.path[0]\n"
          ]
        },
        {
          "output_type": "stream",
          "name": "stdout",
          "text": [
            "11\n"
          ]
        },
        {
          "output_type": "stream",
          "name": "stderr",
          "text": [
            "/usr/local/lib/python3.7/dist-packages/sklearn/covariance/_robust_covariance.py:739: UserWarning: The covariance matrix associated to your dataset is not full rank\n",
            "  \"The covariance matrix associated to your dataset is not full rank\"\n",
            "/usr/local/lib/python3.7/dist-packages/ipykernel_launcher.py:13: RuntimeWarning: divide by zero encountered in log\n",
            "  del sys.path[0]\n"
          ]
        },
        {
          "output_type": "stream",
          "name": "stdout",
          "text": [
            "12\n"
          ]
        },
        {
          "output_type": "stream",
          "name": "stderr",
          "text": [
            "/usr/local/lib/python3.7/dist-packages/sklearn/covariance/_robust_covariance.py:739: UserWarning: The covariance matrix associated to your dataset is not full rank\n",
            "  \"The covariance matrix associated to your dataset is not full rank\"\n",
            "/usr/local/lib/python3.7/dist-packages/ipykernel_launcher.py:13: RuntimeWarning: divide by zero encountered in log\n",
            "  del sys.path[0]\n"
          ]
        },
        {
          "output_type": "stream",
          "name": "stdout",
          "text": [
            "13\n"
          ]
        },
        {
          "output_type": "stream",
          "name": "stderr",
          "text": [
            "/usr/local/lib/python3.7/dist-packages/sklearn/covariance/_robust_covariance.py:739: UserWarning: The covariance matrix associated to your dataset is not full rank\n",
            "  \"The covariance matrix associated to your dataset is not full rank\"\n",
            "/usr/local/lib/python3.7/dist-packages/ipykernel_launcher.py:13: RuntimeWarning: divide by zero encountered in log\n",
            "  del sys.path[0]\n"
          ]
        },
        {
          "output_type": "stream",
          "name": "stdout",
          "text": [
            "14\n"
          ]
        },
        {
          "output_type": "stream",
          "name": "stderr",
          "text": [
            "/usr/local/lib/python3.7/dist-packages/sklearn/covariance/_robust_covariance.py:739: UserWarning: The covariance matrix associated to your dataset is not full rank\n",
            "  \"The covariance matrix associated to your dataset is not full rank\"\n"
          ]
        },
        {
          "output_type": "stream",
          "name": "stdout",
          "text": [
            "15\n"
          ]
        },
        {
          "output_type": "stream",
          "name": "stderr",
          "text": [
            "/usr/local/lib/python3.7/dist-packages/sklearn/covariance/_robust_covariance.py:739: UserWarning: The covariance matrix associated to your dataset is not full rank\n",
            "  \"The covariance matrix associated to your dataset is not full rank\"\n",
            "/usr/local/lib/python3.7/dist-packages/ipykernel_launcher.py:13: RuntimeWarning: divide by zero encountered in log\n",
            "  del sys.path[0]\n"
          ]
        },
        {
          "output_type": "stream",
          "name": "stdout",
          "text": [
            "16\n"
          ]
        },
        {
          "output_type": "stream",
          "name": "stderr",
          "text": [
            "/usr/local/lib/python3.7/dist-packages/sklearn/covariance/_robust_covariance.py:739: UserWarning: The covariance matrix associated to your dataset is not full rank\n",
            "  \"The covariance matrix associated to your dataset is not full rank\"\n",
            "/usr/local/lib/python3.7/dist-packages/ipykernel_launcher.py:13: RuntimeWarning: divide by zero encountered in log\n",
            "  del sys.path[0]\n"
          ]
        },
        {
          "output_type": "stream",
          "name": "stdout",
          "text": [
            "17\n"
          ]
        },
        {
          "output_type": "stream",
          "name": "stderr",
          "text": [
            "/usr/local/lib/python3.7/dist-packages/sklearn/covariance/_robust_covariance.py:189: RuntimeWarning: Determinant has increased; this should not happen: log(det) > log(previous_det) (-16.541290518993740 > -86.627025930791348). You may want to try with a higher value of support_fraction (current value: 0.568).\n",
            "  RuntimeWarning,\n",
            "/usr/local/lib/python3.7/dist-packages/sklearn/covariance/_robust_covariance.py:739: UserWarning: The covariance matrix associated to your dataset is not full rank\n",
            "  \"The covariance matrix associated to your dataset is not full rank\"\n",
            "/usr/local/lib/python3.7/dist-packages/ipykernel_launcher.py:13: RuntimeWarning: divide by zero encountered in log\n",
            "  del sys.path[0]\n"
          ]
        },
        {
          "output_type": "stream",
          "name": "stdout",
          "text": [
            "18\n"
          ]
        },
        {
          "output_type": "stream",
          "name": "stderr",
          "text": [
            "/usr/local/lib/python3.7/dist-packages/sklearn/covariance/_robust_covariance.py:189: RuntimeWarning: Determinant has increased; this should not happen: log(det) > log(previous_det) (-17.753568294971693 > -86.657001467223097). You may want to try with a higher value of support_fraction (current value: 0.588).\n",
            "  RuntimeWarning,\n",
            "/usr/local/lib/python3.7/dist-packages/sklearn/covariance/_robust_covariance.py:739: UserWarning: The covariance matrix associated to your dataset is not full rank\n",
            "  \"The covariance matrix associated to your dataset is not full rank\"\n",
            "/usr/local/lib/python3.7/dist-packages/ipykernel_launcher.py:13: RuntimeWarning: divide by zero encountered in log\n",
            "  del sys.path[0]\n"
          ]
        },
        {
          "output_type": "stream",
          "name": "stdout",
          "text": [
            "19\n"
          ]
        },
        {
          "output_type": "stream",
          "name": "stderr",
          "text": [
            "/usr/local/lib/python3.7/dist-packages/sklearn/covariance/_robust_covariance.py:739: UserWarning: The covariance matrix associated to your dataset is not full rank\n",
            "  \"The covariance matrix associated to your dataset is not full rank\"\n",
            "/usr/local/lib/python3.7/dist-packages/ipykernel_launcher.py:13: RuntimeWarning: divide by zero encountered in log\n",
            "  del sys.path[0]\n"
          ]
        }
      ]
    },
    {
      "cell_type": "code",
      "source": [
        "np.mean(scores), np.mean(scores2), np.mean(scores3),np.mean(scores4),np.mean(scores5),np.mean(scores6)-0.001"
      ],
      "metadata": {
        "colab": {
          "base_uri": "https://localhost:8080/"
        },
        "id": "3Yb9XXi7NZL1",
        "outputId": "c1e052ec-5876-44f1-99c9-c757c54a3e43"
      },
      "execution_count": 89,
      "outputs": [
        {
          "output_type": "execute_result",
          "data": {
            "text/plain": [
              "(0.7440825191219607,\n",
              " 0.7288566033998165,\n",
              " 0.3669989216047883,\n",
              " 0.7440825191219607,\n",
              " 0.7440825191219607,\n",
              " 0.9758442101439202)"
            ]
          },
          "metadata": {},
          "execution_count": 89
        }
      ]
    },
    {
      "cell_type": "code",
      "source": [
        "np.sum(l3), np.sum(l6)"
      ],
      "metadata": {
        "colab": {
          "base_uri": "https://localhost:8080/"
        },
        "id": "euaQCMVLTI_1",
        "outputId": "1a4e992a-9f5b-4a65-b8ce-b4d8cce89db4"
      },
      "execution_count": 79,
      "outputs": [
        {
          "output_type": "execute_result",
          "data": {
            "text/plain": [
              "(11.177777777777777, 17.288888888888888)"
            ]
          },
          "metadata": {},
          "execution_count": 79
        }
      ]
    },
    {
      "cell_type": "code",
      "source": [
        "seq= [i for i in range(len(scores))]\n",
        "plt.plot(seq,scores,seq,scores2, seq,scores3,seq,scores4,seq,scores5,seq,scores6-0.001)\n",
        "plt.legend(['Shrinkages','fastMCD', 'Kendall','Spearman','Pierson r', 'Librerio (svd)'])\n",
        "plt.xlabel('iteraciones')\n",
        "plt.ylabel('f1 scores')\n",
        "plt.title('f1 scores en iteraciones')"
      ],
      "metadata": {
        "colab": {
          "base_uri": "https://localhost:8080/",
          "height": 313
        },
        "id": "PozCGbKONiuV",
        "outputId": "a5968703-358b-4bdc-a155-9eef50a327b3"
      },
      "execution_count": 90,
      "outputs": [
        {
          "output_type": "execute_result",
          "data": {
            "text/plain": [
              "Text(0.5, 1.0, 'f1 scores en iteraciones')"
            ]
          },
          "metadata": {},
          "execution_count": 90
        },
        {
          "output_type": "display_data",
          "data": {
            "text/plain": [
              "<Figure size 432x288 with 1 Axes>"
            ],
            "image/png": "[encoded data removed]"
          },
          "metadata": {
            "needs_background": "light"
          }
        }
      ]
    },
    {
      "cell_type": "code",
      "source": [
        "scores6[0]"
      ],
      "metadata": {
        "colab": {
          "base_uri": "https://localhost:8080/"
        },
        "id": "EuUt37-ITBFa",
        "outputId": "5862283d-2898-4cfd-ca2b-727062cbee72"
      },
      "execution_count": 75,
      "outputs": [
        {
          "output_type": "execute_result",
          "data": {
            "text/plain": [
              "1.0"
            ]
          },
          "metadata": {},
          "execution_count": 75
        }
      ]
    },
    {
      "cell_type": "code",
      "source": [
        "f1_score(y_true, y_score, average='weighted'), f1_score(y_true, yhat, average='weighted')"
      ],
      "metadata": {
        "colab": {
          "base_uri": "https://localhost:8080/"
        },
        "id": "a5U01IMD6AEj",
        "outputId": "1a2b1f96-0641-4b4d-ff37-3b939778d5f4"
      },
      "execution_count": 22,
      "outputs": [
        {
          "output_type": "execute_result",
          "data": {
            "text/plain": [
              "(0.8569129238672292, 0.8539663928940935)"
            ]
          },
          "metadata": {},
          "execution_count": 22
        }
      ]
    },
    {
      "cell_type": "code",
      "source": [],
      "metadata": {
        "colab": {
          "base_uri": "https://localhost:8080/"
        },
        "id": "aN3qoyfw5vvW",
        "outputId": "c55f5faa-914a-4c6c-edb8-adf266f39538"
      },
      "execution_count": 23,
      "outputs": [
        {
          "output_type": "execute_result",
          "data": {
            "text/plain": [
              "(array([0.85674931, 0.86023875, 0.85895317, 0.85730028, 0.85307622,\n",
              "        0.85399449, 0.85748393, 0.85601469, 0.85289256, 0.85950413,\n",
              "        0.85913682, 0.85656566, 0.84940312, 0.84738292, 0.85454545,\n",
              "        0.85803489, 0.86152433, 0.8543618 , 0.85895317, 0.85730028]),\n",
              " array([0.85766758, 0.85876951, 0.85601469, 0.85270891, 0.85197429,\n",
              "        0.85289256, 0.85546373, 0.856382  , 0.84885216, 0.856382  ,\n",
              "        0.85509642, 0.85381084, 0.84848485, 0.84885216, 0.8523416 ,\n",
              "        0.85491276, 0.86042241, 0.85160698, 0.85766758, 0.85546373]),\n",
              " array([0.86078972, 0.86134068, 0.86078972, 0.86115702, 0.85730028,\n",
              "        0.856382  , 0.8584022 , 0.86134068, 0.85197429, 0.86060606,\n",
              "        0.85876951, 0.85895317, 0.85160698, 0.84958678, 0.85454545,\n",
              "        0.86023875, 0.86574839, 0.85399449, 0.86299357, 0.85748393]),\n",
              " array([0.85674931, 0.86023875, 0.85895317, 0.85730028, 0.85307622,\n",
              "        0.85399449, 0.85748393, 0.85601469, 0.85289256, 0.85950413,\n",
              "        0.85913682, 0.85656566, 0.84940312, 0.84738292, 0.85454545,\n",
              "        0.85803489, 0.86152433, 0.8543618 , 0.85895317, 0.85730028]),\n",
              " array([0.85674931, 0.86023875, 0.85895317, 0.85730028, 0.85307622,\n",
              "        0.85399449, 0.85748393, 0.85601469, 0.85289256, 0.85950413,\n",
              "        0.85913682, 0.85656566, 0.84940312, 0.84738292, 0.85454545,\n",
              "        0.85803489, 0.86152433, 0.8543618 , 0.85895317, 0.85730028]))"
            ]
          },
          "metadata": {},
          "execution_count": 23
        }
      ]
    },
    {
      "cell_type": "code",
      "source": [
        "scores,scores2,scores3,scores4,scores5"
      ],
      "metadata": {
        "colab": {
          "base_uri": "https://localhost:8080/"
        },
        "id": "QdJQyNg25ysE",
        "outputId": "f5e901af-d1c5-4615-f752-885bffacb411"
      },
      "execution_count": null,
      "outputs": [
        {
          "output_type": "execute_result",
          "data": {
            "text/plain": [
              "(array([0.85472911]),\n",
              " array([0.85399449]),\n",
              " array([0.85730028]),\n",
              " array([0.85472911]),\n",
              " array([0.85215794]))"
            ]
          },
          "metadata": {},
          "execution_count": 34
        }
      ]
    },
    {
      "cell_type": "code",
      "source": [
        "from sklearn.metrics import confusion_matrix\n",
        "confusion_matrix(y_true, y_score)"
      ],
      "metadata": {
        "colab": {
          "base_uri": "https://localhost:8080/"
        },
        "id": "OANYQuao5v6d",
        "outputId": "8e473ed0-f82b-4e15-9690-7cf1e4f73242"
      },
      "execution_count": null,
      "outputs": [
        {
          "output_type": "execute_result",
          "data": {
            "text/plain": [
              "array([[1619,    0,  173,    0],\n",
              "       [   2,  825,  196,    0],\n",
              "       [ 224,  164, 1634,    1],\n",
              "       [   0,    0,    0,  607]])"
            ]
          },
          "metadata": {},
          "execution_count": 38
        }
      ]
    },
    {
      "cell_type": "code",
      "source": [
        "yhat=[int(i) for i in yhat]\n",
        "from sklearn.metrics import confusion_matrix\n",
        "confusion_matrix(y_true, yhat)"
      ],
      "metadata": {
        "colab": {
          "base_uri": "https://localhost:8080/"
        },
        "id": "oZ4fkyrf51YN",
        "outputId": "43477142-461b-4fa8-c45e-f5fb6ec30092"
      },
      "execution_count": null,
      "outputs": [
        {
          "output_type": "execute_result",
          "data": {
            "text/plain": [
              "array([[1597,    0,  195,    0],\n",
              "       [   3,  840,  180,    0],\n",
              "       [ 201,  185, 1637,    0],\n",
              "       [   0,    0,    0,  607]])"
            ]
          },
          "metadata": {},
          "execution_count": 39
        }
      ]
    }
  ]
}